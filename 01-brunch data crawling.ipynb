{
 "cells": [
  {
   "cell_type": "markdown",
   "metadata": {},
   "source": [
    "### brunch data crawling\n",
    "* 작가들의 Followers 테이블을 만들다 \n",
    "* Followers에서 following을 크롤링할 대상을 SQL 쿼리로 산출한다. \n",
    "* folling 테이블에 추가한다.  "
   ]
  },
  {
   "cell_type": "code",
   "execution_count": 3,
   "metadata": {
    "collapsed": true
   },
   "outputs": [],
   "source": [
    "import sqlite3\n",
    "import requests\n",
    "import json\n",
    "from bs4 import BeautifulSoup\n",
    "import pandas as pd\n",
    "\n",
    "import matplotlib.pylab as plt\n",
    "%matplotlib inline\n",
    "\n",
    "from selenium import webdriver\n",
    "from selenium.webdriver.support.ui import Select\n",
    "import time"
   ]
  },
  {
   "cell_type": "markdown",
   "metadata": {},
   "source": [
    "1. 브런치 Follower(구독자), Following(관심작가) 정보 수집 \n",
    "```html\n",
    "<ul class=\"list_follow\">객체에서\n",
    "a tag href=\"/@\"으로 시작하는 아이디 가져오기\n",
    "```\n",
    "<img src='https://t1.daumcdn.net/thumb/R1280x0/?fname=http://t1.daumcdn.net/brunch/service/user/Kvs/image/vS4eDK8M1R8ytc0HUJTlG8Vk-jg.png'>\n",
    "\n",
    "* crawling 절차\n",
    " * https://brunch.co.kr/@{user-id}/{following} URL로 HTML을 크롤링한다. \n",
    "    : brunch 관심작가, 구독자가 공개는 되어 있지만, 무한 스크롤 방식의 UX를 사용하기 때문에 셀리늄2.0(webdriver)를 통해 html을 크롤링할수 있다. \n",
    " * 크롤링된 HTML을 BS4로 class = link_follow 이고 herf = '@****' 로 시작되는 아이디만 추출\n",
    " "
   ]
  },
  {
   "cell_type": "code",
   "execution_count": 4,
   "metadata": {
    "collapsed": true
   },
   "outputs": [],
   "source": [
    "# brunch data crawling by 셀레니엄\n",
    "# source reference : http://stackoverflow.com/questions/12519074/scrape-websites-with-infinite-scrolling\n",
    "def crawlBrunchLink(uid, dir='follower', driver=webdriver.Firefox()):\n",
    "    ## html crawling\n",
    "    url = \"https://brunch.co.kr/@{uid}/{dir}\".format(uid=uid, dir=dir)\n",
    "    driver.get(url)\n",
    "\n",
    "    htmlsize = 0\n",
    "    keep_cnt = 0\n",
    "    for i in range(1,200):\n",
    "        driver.execute_script(\"window.scrollTo(0, document.body.scrollHeight);\")\n",
    "        time.sleep(0.003) \n",
    "        if htmlsize == len(driver.page_source):\n",
    "            keep_cnt += 1\n",
    "        else :\n",
    "            keep_cnt = 0\n",
    "            htmlsize = len(driver.page_source)\n",
    "        if keep_cnt > 5 :\n",
    "            break\n",
    "            \n",
    "    html_source = driver.page_source\n",
    "    ## extract follower, following data\n",
    "    data = html_source.encode('utf-8')\n",
    "    soup = BeautifulSoup(data, 'html.parser')\n",
    "    classes = soup.find_all(\"a\", class_=\"link_follow\")\n",
    "    idlist = []\n",
    "    for c in classes:\n",
    "        follwing = c.get('href')\n",
    "        if follwing is None or len(follwing)==0:\n",
    "            continue\n",
    "        idlist.append(follwing[2:])\n",
    "\n",
    "    #driver.close()\n",
    "    return idlist"
   ]
  },
  {
   "cell_type": "code",
   "execution_count": 5,
   "metadata": {
    "collapsed": true
   },
   "outputs": [],
   "source": [
    "## 관심 작가 정보 크롤링 하기 \n",
    "## extract Brunch Writer Info : uid, name, text-count, megazine-count, follower-count, following-count:\n",
    "def extractWriterInfo(uid):\n",
    "    try:\n",
    "        response = requests.get(\"http://brunch.co.kr/@{uid}\".format(uid=uid) )\n",
    "    except Exception:\n",
    "        []\n",
    "        \n",
    "    data = response.content.decode('utf-8')\n",
    "    soup = BeautifulSoup(data, 'html.parser')\n",
    "    \n",
    "    ## name \n",
    "    names = soup.find_all(\"strong\", class_=\"profileUserName\")\n",
    "    name = uid if len(names)<1 else names[0].getText()\n",
    "    \n",
    "    ## profile description\n",
    "    desc = soup.find_all(\"pre\", class_=\"profileUserDesc\")\n",
    "    desc = \"{} 브런치입니다.\".format(uid) if len(desc)<1 else desc[0].getText()\n",
    "    \n",
    "    ## thumbnail image link\n",
    "    imgsrc = soup.find_all(\"input\", class_=\"profileUserImageUrl\")\n",
    "    imgsrc = \"no-img\" if len(imgsrc)<1 else imgsrc[0].get('value')\n",
    "    \n",
    "    classes = soup.find_all(\"span\", class_=\"num_count\")\n",
    "    reserved = [uid, name, desc, imgsrc]\n",
    "    for c in classes:\n",
    "        reserved.append(int(c.getText().replace(\",\",\"\")))\n",
    "    \n",
    "    if len(reserved) < 8:\n",
    "        for n in range(0,8-(len(reserved))):\n",
    "            reserved.append(0)\n",
    "    return reserved[:8]"
   ]
  },
  {
   "cell_type": "markdown",
   "metadata": {},
   "source": [
    "### 데이터의 수집 방법\n",
    "* goodvc78의 follower부터 시작하여 재귀적으로 데이터 수집 \n",
    "* goodvc78의 follower수집(1) --> follower들의 following 작가 수집(2) --> following 작가들의 follower수집(1) --> (2)\n",
    "\n",
    "                         \n",
    "                        "
   ]
  },
  {
   "cell_type": "code",
   "execution_count": 6,
   "metadata": {
    "collapsed": true
   },
   "outputs": [],
   "source": [
    "def insertData(tbl_name, columns, rows):\n",
    "    conn = sqlite3.connect('/Users/goodvc/Documents/data/sqllite/brunch_db.db')\n",
    "    col_str = \", \".join(columns)\n",
    "    val_str = \", \".join(['?' for n in columns])\n",
    "\n",
    "    sql = \"insert into {tbl} ({cols}) values ({vals}) \".format(tbl=tbl_name, cols=col_str, vals=val_str)\n",
    "    try:\n",
    "        ret = conn.executemany(sql, rows)\n",
    "    except Exception:\n",
    "        conn.rollback()\n",
    "    conn.commit()\n",
    "    conn.close()\n",
    "\n",
    "### sample code \n",
    "#now = (int(time.time()))\n",
    "#rows = [['goodvc78', 'test1', now ],['goodvc78', 'test2', now ]]    \n",
    "#insertData( 'follower_tbl', ['writerid', 'userid', 'tm'], rows)"
   ]
  },
  {
   "cell_type": "code",
   "execution_count": 7,
   "metadata": {
    "collapsed": true
   },
   "outputs": [],
   "source": [
    "def insertFollowings(base, id_list):\n",
    "    now = (int(time.time()))\n",
    "    rows = [[base, uid, now] for uid in id_list]\n",
    "    insertData( 'following_tbl', ['userid', 'writerid', 'tm'], rows)\n",
    "    \n",
    "def insertFollowers(base, id_list):\n",
    "    now = (int(time.time()))\n",
    "    rows = [[base, uid, now] for uid in id_list]\n",
    "    insertData( 'follower_tbl', ['writerid','userid',  'tm'], rows)\n",
    "\n",
    "def insertWriterInfo(writer_info_list):\n",
    "    now = (int(time.time()))\n",
    "    rows = []\n",
    "    for info in writer_info_list:\n",
    "        info.append(now)\n",
    "        rows.append(info)\n",
    "    colnames = ['writerid', 'name', 'profile', 'imgsrc', 'documents', 'megazines', 'followers', 'followings', 'tm']\n",
    "    insertData( 'writer_info_tbl', colnames, rows)\n",
    "        "
   ]
  },
  {
   "cell_type": "markdown",
   "metadata": {},
   "source": [
    "### goodvc78's follower list 수집 "
   ]
  },
  {
   "cell_type": "code",
   "execution_count": 6,
   "metadata": {
    "collapsed": false
   },
   "outputs": [
    {
     "name": "stdout",
     "output_type": "stream",
     "text": [
      "내가 좋아하는 작가의 followers = 176\n"
     ]
    }
   ],
   "source": [
    "## 1. goodvc78's follower crawling \n",
    "base = 'goodvc78'\n",
    "driver = webdriver.Firefox()\n",
    "base_follower = crawlBrunchLink(base, dir='follower', driver=driver)\n",
    "print (\"내가 좋아하는 작가의 followers = %d\" %  len(base_follower) )\n",
    "driver.close()"
   ]
  },
  {
   "cell_type": "code",
   "execution_count": 52,
   "metadata": {
    "collapsed": false
   },
   "outputs": [
    {
     "name": "stdout",
     "output_type": "stream",
     "text": [
      "inserted  176 <sqlite3.Cursor object at 0x108608ea0>\n"
     ]
    }
   ],
   "source": [
    "## 2. goodvc78 follower list insert \n",
    "insertFollowers(base, base_follower)"
   ]
  },
  {
   "cell_type": "code",
   "execution_count": 8,
   "metadata": {
    "collapsed": false
   },
   "outputs": [],
   "source": [
    "def unreadUserid(limit=100):\n",
    "    conn = sqlite3.connect('/Users/goodvc/Documents/data/sqllite/brunch_db.db')\n",
    "    sql = \"\"\" \n",
    "    select userid from follower_tbl \n",
    "    where userid not in ( select userid from following_tbl) limit {0};\"\"\".format(limit)\n",
    "    \n",
    "    ds = pd.read_sql(sql, conn)\n",
    "    conn.close()\n",
    "    return ds.userid.tolist()"
   ]
  },
  {
   "cell_type": "code",
   "execution_count": 9,
   "metadata": {
    "collapsed": false
   },
   "outputs": [],
   "source": [
    "def unreadWriterid(limit=10):\n",
    "    conn = sqlite3.connect('/Users/goodvc/Documents/data/sqllite/brunch_db.db')\n",
    "    sql = \"\"\" \n",
    "    select writerid,count(1) cnt from following_tbl\n",
    "    where writerid not in ( select writerid from follower_tbl) and writerid !='brunch'\n",
    "    group by writerid \n",
    "    having cnt > 20 \n",
    "    limit {0};\"\"\".format(limit)\n",
    "    \n",
    "    ds = pd.read_sql(sql, conn)\n",
    "    conn.close()\n",
    "    return ds.writerid.tolist()"
   ]
  },
  {
   "cell_type": "code",
   "execution_count": 10,
   "metadata": {
    "collapsed": true
   },
   "outputs": [],
   "source": [
    "def unreadWriterInfoid(limit=100):\n",
    "    conn = sqlite3.connect('/Users/goodvc/Documents/data/sqllite/brunch_db.db')\n",
    "    sql = \"\"\" \n",
    "    select writerid, count(1) cnt from following_tbl\n",
    "    where writerid not in ( select writerid from writer_info_tbl) and writerid !='brunch'\n",
    "    group by writerid \n",
    "    having cnt > 1 \n",
    "    limit {0};\"\"\".format(limit)\n",
    "    \n",
    "    ds = pd.read_sql(sql, conn)\n",
    "    conn.close()\n",
    "    return ds.writerid.tolist()"
   ]
  },
  {
   "cell_type": "code",
   "execution_count": 11,
   "metadata": {
    "collapsed": false
   },
   "outputs": [],
   "source": [
    "def crawlFollowing(limit=100):\n",
    "    driver = webdriver.Firefox()\n",
    "    users = unreadUserid(limit)\n",
    "    print (\"\\ncrawling users \", len(users))\n",
    "    for uid in users :\n",
    "        following = crawlBrunchLink(uid, dir='following', driver=driver)\n",
    "        insertFollowings(uid, following)\n",
    "        print('.',end=\"\")\n",
    "    driver.close()  "
   ]
  },
  {
   "cell_type": "code",
   "execution_count": 12,
   "metadata": {
    "collapsed": true
   },
   "outputs": [],
   "source": [
    "def crawlFollower(limit=10):\n",
    "    driver = webdriver.Firefox()\n",
    "    writers = unreadWriterid(limit)\n",
    "    print (\"\\ncrawling writers \", len(writers))\n",
    "    for writerid in writers :\n",
    "        follower = crawlBrunchLink(writerid, dir='follower', driver=driver)\n",
    "        insertFollowers(writerid, follower)\n",
    "        print('.',end=\"\")\n",
    "    driver.close()  "
   ]
  },
  {
   "cell_type": "code",
   "execution_count": 13,
   "metadata": {
    "collapsed": true
   },
   "outputs": [],
   "source": [
    "def crawlWriterInfo(limit=100):\n",
    "    writers = unreadWriterInfoid(limit)\n",
    "    print (\"\\ncrawling writer info \", len(writers))\n",
    "    infos = []\n",
    "    for writerid in writers :\n",
    "        info = extractWriterInfo(writerid)\n",
    "        if len(info)!=8:\n",
    "            print(\"skipped:{id} {val}\".format(id=writerid, val=info))\n",
    "            continue\n",
    "        infos.append(info)\n",
    "        print('.',end=\"\")\n",
    "    insertWriterInfo(infos)"
   ]
  },
  {
   "cell_type": "code",
   "execution_count": 14,
   "metadata": {
    "collapsed": false,
    "scrolled": true
   },
   "outputs": [
    {
     "name": "stdout",
     "output_type": "stream",
     "text": [
      "\n",
      "crawling users  100\n",
      "....................................................................................................\n",
      "crawling users  100\n",
      "....................................................................................................\n",
      "crawling users  100\n",
      "....................................................................................................\n",
      "crawling users  100\n",
      "....................................................................................................\n",
      "crawling users  100\n",
      "....................................................................................................\n",
      "crawling users  100\n",
      "....................................................................................................\n",
      "crawling users  100\n",
      "....................................................................................................\n",
      "crawling users  100\n",
      "....................................................................................................\n",
      "crawling users  100\n",
      "...................................................................................................."
     ]
    }
   ],
   "source": [
    "## following list crawling\n",
    "for n in range(1,10):\n",
    "    crawlFollowing(100)"
   ]
  },
  {
   "cell_type": "code",
   "execution_count": 20,
   "metadata": {
    "collapsed": false
   },
   "outputs": [
    {
     "name": "stdout",
     "output_type": "stream",
     "text": [
      "\n",
      "crawling writers  100\n",
      "...................................................................................................."
     ]
    }
   ],
   "source": [
    "crawlFollower(100)"
   ]
  },
  {
   "cell_type": "code",
   "execution_count": 21,
   "metadata": {
    "collapsed": false
   },
   "outputs": [
    {
     "name": "stdout",
     "output_type": "stream",
     "text": [
      "\n",
      "crawling users  100\n",
      "....................................................................................................\n",
      "crawling users  100\n",
      "....................................................................................................\n",
      "crawling users  100\n",
      "....................................................................................................\n",
      "crawling users  100\n",
      "....................................................................................................\n",
      "crawling users  100\n",
      "....................................................................................................\n",
      "crawling users  100\n",
      "....................................................................................................\n",
      "crawling users  100\n",
      "....................................................................................................\n",
      "crawling users  100\n",
      "....................................................................................................\n",
      "crawling users  100\n",
      "....................................................................................................\n",
      "crawling users  100\n",
      "....................................................................................................\n",
      "crawling users  100\n",
      "....................................................................................................\n",
      "crawling users  100\n",
      "....................................................................................................\n",
      "crawling users  100\n",
      "....................................................................................................\n",
      "crawling users  100\n",
      "....................................................................................................\n",
      "crawling users  100\n",
      "....................................................................................................\n",
      "crawling users  100\n",
      "....................................................................................................\n",
      "crawling users  100\n",
      "....................................................................................................\n",
      "crawling users  100\n",
      "....................................................................................................\n",
      "crawling users  100\n",
      "....................................................................................................\n",
      "crawling users  100\n",
      "....................................................................................................\n",
      "crawling users  100\n",
      "....................................................................................................\n",
      "crawling users  100\n",
      "....................................................................................................\n",
      "crawling users  100\n",
      "....................................................................................................\n",
      "crawling users  100\n",
      "....................................................................................................\n",
      "crawling users  100\n",
      "....................................................................................................\n",
      "crawling users  100\n",
      "....................................................................................................\n",
      "crawling users  100\n",
      "....................................................................................................\n",
      "crawling users  100\n",
      "........."
     ]
    },
    {
     "ename": "KeyboardInterrupt",
     "evalue": "",
     "output_type": "error",
     "traceback": [
      "\u001b[0;31m---------------------------------------------------------------------------\u001b[0m",
      "\u001b[0;31mKeyboardInterrupt\u001b[0m                         Traceback (most recent call last)",
      "\u001b[0;32m<ipython-input-21-84f901c97df7>\u001b[0m in \u001b[0;36m<module>\u001b[0;34m()\u001b[0m\n\u001b[1;32m      1\u001b[0m \u001b[0;31m## following list crawling\u001b[0m\u001b[0;34m\u001b[0m\u001b[0;34m\u001b[0m\u001b[0m\n\u001b[1;32m      2\u001b[0m \u001b[0;32mfor\u001b[0m \u001b[0mn\u001b[0m \u001b[0;32min\u001b[0m \u001b[0mrange\u001b[0m\u001b[0;34m(\u001b[0m\u001b[0;36m1\u001b[0m\u001b[0;34m,\u001b[0m\u001b[0;36m100\u001b[0m\u001b[0;34m)\u001b[0m\u001b[0;34m:\u001b[0m\u001b[0;34m\u001b[0m\u001b[0m\n\u001b[0;32m----> 3\u001b[0;31m     \u001b[0mcrawlFollowing\u001b[0m\u001b[0;34m(\u001b[0m\u001b[0;36m100\u001b[0m\u001b[0;34m)\u001b[0m\u001b[0;34m\u001b[0m\u001b[0m\n\u001b[0m",
      "\u001b[0;32m<ipython-input-11-dc8a3e9c298f>\u001b[0m in \u001b[0;36mcrawlFollowing\u001b[0;34m(limit)\u001b[0m\n\u001b[1;32m      4\u001b[0m     \u001b[0mprint\u001b[0m \u001b[0;34m(\u001b[0m\u001b[0;34m\"\\ncrawling users \"\u001b[0m\u001b[0;34m,\u001b[0m \u001b[0mlen\u001b[0m\u001b[0;34m(\u001b[0m\u001b[0musers\u001b[0m\u001b[0;34m)\u001b[0m\u001b[0;34m)\u001b[0m\u001b[0;34m\u001b[0m\u001b[0m\n\u001b[1;32m      5\u001b[0m     \u001b[0;32mfor\u001b[0m \u001b[0muid\u001b[0m \u001b[0;32min\u001b[0m \u001b[0musers\u001b[0m \u001b[0;34m:\u001b[0m\u001b[0;34m\u001b[0m\u001b[0m\n\u001b[0;32m----> 6\u001b[0;31m         \u001b[0mfollowing\u001b[0m \u001b[0;34m=\u001b[0m \u001b[0mcrawlBrunchLink\u001b[0m\u001b[0;34m(\u001b[0m\u001b[0muid\u001b[0m\u001b[0;34m,\u001b[0m \u001b[0mdir\u001b[0m\u001b[0;34m=\u001b[0m\u001b[0;34m'following'\u001b[0m\u001b[0;34m,\u001b[0m \u001b[0mdriver\u001b[0m\u001b[0;34m=\u001b[0m\u001b[0mdriver\u001b[0m\u001b[0;34m)\u001b[0m\u001b[0;34m\u001b[0m\u001b[0m\n\u001b[0m\u001b[1;32m      7\u001b[0m         \u001b[0minsertFollowings\u001b[0m\u001b[0;34m(\u001b[0m\u001b[0muid\u001b[0m\u001b[0;34m,\u001b[0m \u001b[0mfollowing\u001b[0m\u001b[0;34m)\u001b[0m\u001b[0;34m\u001b[0m\u001b[0m\n\u001b[1;32m      8\u001b[0m         \u001b[0mprint\u001b[0m\u001b[0;34m(\u001b[0m\u001b[0;34m'.'\u001b[0m\u001b[0;34m,\u001b[0m\u001b[0mend\u001b[0m\u001b[0;34m=\u001b[0m\u001b[0;34m\"\"\u001b[0m\u001b[0;34m)\u001b[0m\u001b[0;34m\u001b[0m\u001b[0m\n",
      "\u001b[0;32m<ipython-input-4-12f8f6067289>\u001b[0m in \u001b[0;36mcrawlBrunchLink\u001b[0;34m(uid, dir, driver)\u001b[0m\n\u001b[1;32m      4\u001b[0m     \u001b[0;31m## html crawling\u001b[0m\u001b[0;34m\u001b[0m\u001b[0;34m\u001b[0m\u001b[0m\n\u001b[1;32m      5\u001b[0m     \u001b[0murl\u001b[0m \u001b[0;34m=\u001b[0m \u001b[0;34m\"https://brunch.co.kr/@{uid}/{dir}\"\u001b[0m\u001b[0;34m.\u001b[0m\u001b[0mformat\u001b[0m\u001b[0;34m(\u001b[0m\u001b[0muid\u001b[0m\u001b[0;34m=\u001b[0m\u001b[0muid\u001b[0m\u001b[0;34m,\u001b[0m \u001b[0mdir\u001b[0m\u001b[0;34m=\u001b[0m\u001b[0mdir\u001b[0m\u001b[0;34m)\u001b[0m\u001b[0;34m\u001b[0m\u001b[0m\n\u001b[0;32m----> 6\u001b[0;31m     \u001b[0mdriver\u001b[0m\u001b[0;34m.\u001b[0m\u001b[0mget\u001b[0m\u001b[0;34m(\u001b[0m\u001b[0murl\u001b[0m\u001b[0;34m)\u001b[0m\u001b[0;34m\u001b[0m\u001b[0m\n\u001b[0m\u001b[1;32m      7\u001b[0m \u001b[0;34m\u001b[0m\u001b[0m\n\u001b[1;32m      8\u001b[0m     \u001b[0mhtmlsize\u001b[0m \u001b[0;34m=\u001b[0m \u001b[0;36m0\u001b[0m\u001b[0;34m\u001b[0m\u001b[0m\n",
      "\u001b[0;32m/Library/Frameworks/Python.framework/Versions/3.4/lib/python3.4/site-packages/selenium/webdriver/remote/webdriver.py\u001b[0m in \u001b[0;36mget\u001b[0;34m(self, url)\u001b[0m\n\u001b[1;32m    211\u001b[0m         \u001b[0mLoads\u001b[0m \u001b[0ma\u001b[0m \u001b[0mweb\u001b[0m \u001b[0mpage\u001b[0m \u001b[0;32min\u001b[0m \u001b[0mthe\u001b[0m \u001b[0mcurrent\u001b[0m \u001b[0mbrowser\u001b[0m \u001b[0msession\u001b[0m\u001b[0;34m.\u001b[0m\u001b[0;34m\u001b[0m\u001b[0m\n\u001b[1;32m    212\u001b[0m         \"\"\"\n\u001b[0;32m--> 213\u001b[0;31m         \u001b[0mself\u001b[0m\u001b[0;34m.\u001b[0m\u001b[0mexecute\u001b[0m\u001b[0;34m(\u001b[0m\u001b[0mCommand\u001b[0m\u001b[0;34m.\u001b[0m\u001b[0mGET\u001b[0m\u001b[0;34m,\u001b[0m \u001b[0;34m{\u001b[0m\u001b[0;34m'url'\u001b[0m\u001b[0;34m:\u001b[0m \u001b[0murl\u001b[0m\u001b[0;34m}\u001b[0m\u001b[0;34m)\u001b[0m\u001b[0;34m\u001b[0m\u001b[0m\n\u001b[0m\u001b[1;32m    214\u001b[0m \u001b[0;34m\u001b[0m\u001b[0m\n\u001b[1;32m    215\u001b[0m     \u001b[0;34m@\u001b[0m\u001b[0mproperty\u001b[0m\u001b[0;34m\u001b[0m\u001b[0m\n",
      "\u001b[0;32m/Library/Frameworks/Python.framework/Versions/3.4/lib/python3.4/site-packages/selenium/webdriver/remote/webdriver.py\u001b[0m in \u001b[0;36mexecute\u001b[0;34m(self, driver_command, params)\u001b[0m\n\u001b[1;32m    197\u001b[0m \u001b[0;34m\u001b[0m\u001b[0m\n\u001b[1;32m    198\u001b[0m         \u001b[0mparams\u001b[0m \u001b[0;34m=\u001b[0m \u001b[0mself\u001b[0m\u001b[0;34m.\u001b[0m\u001b[0m_wrap_value\u001b[0m\u001b[0;34m(\u001b[0m\u001b[0mparams\u001b[0m\u001b[0;34m)\u001b[0m\u001b[0;34m\u001b[0m\u001b[0m\n\u001b[0;32m--> 199\u001b[0;31m         \u001b[0mresponse\u001b[0m \u001b[0;34m=\u001b[0m \u001b[0mself\u001b[0m\u001b[0;34m.\u001b[0m\u001b[0mcommand_executor\u001b[0m\u001b[0;34m.\u001b[0m\u001b[0mexecute\u001b[0m\u001b[0;34m(\u001b[0m\u001b[0mdriver_command\u001b[0m\u001b[0;34m,\u001b[0m \u001b[0mparams\u001b[0m\u001b[0;34m)\u001b[0m\u001b[0;34m\u001b[0m\u001b[0m\n\u001b[0m\u001b[1;32m    200\u001b[0m         \u001b[0;32mif\u001b[0m \u001b[0mresponse\u001b[0m\u001b[0;34m:\u001b[0m\u001b[0;34m\u001b[0m\u001b[0m\n\u001b[1;32m    201\u001b[0m             \u001b[0mself\u001b[0m\u001b[0;34m.\u001b[0m\u001b[0merror_handler\u001b[0m\u001b[0;34m.\u001b[0m\u001b[0mcheck_response\u001b[0m\u001b[0;34m(\u001b[0m\u001b[0mresponse\u001b[0m\u001b[0;34m)\u001b[0m\u001b[0;34m\u001b[0m\u001b[0m\n",
      "\u001b[0;32m/Library/Frameworks/Python.framework/Versions/3.4/lib/python3.4/site-packages/selenium/webdriver/remote/remote_connection.py\u001b[0m in \u001b[0;36mexecute\u001b[0;34m(self, command, params)\u001b[0m\n\u001b[1;32m    393\u001b[0m         \u001b[0mpath\u001b[0m \u001b[0;34m=\u001b[0m \u001b[0mstring\u001b[0m\u001b[0;34m.\u001b[0m\u001b[0mTemplate\u001b[0m\u001b[0;34m(\u001b[0m\u001b[0mcommand_info\u001b[0m\u001b[0;34m[\u001b[0m\u001b[0;36m1\u001b[0m\u001b[0;34m]\u001b[0m\u001b[0;34m)\u001b[0m\u001b[0;34m.\u001b[0m\u001b[0msubstitute\u001b[0m\u001b[0;34m(\u001b[0m\u001b[0mparams\u001b[0m\u001b[0;34m)\u001b[0m\u001b[0;34m\u001b[0m\u001b[0m\n\u001b[1;32m    394\u001b[0m         \u001b[0murl\u001b[0m \u001b[0;34m=\u001b[0m \u001b[0;34m'%s%s'\u001b[0m \u001b[0;34m%\u001b[0m \u001b[0;34m(\u001b[0m\u001b[0mself\u001b[0m\u001b[0;34m.\u001b[0m\u001b[0m_url\u001b[0m\u001b[0;34m,\u001b[0m \u001b[0mpath\u001b[0m\u001b[0;34m)\u001b[0m\u001b[0;34m\u001b[0m\u001b[0m\n\u001b[0;32m--> 395\u001b[0;31m         \u001b[0;32mreturn\u001b[0m \u001b[0mself\u001b[0m\u001b[0;34m.\u001b[0m\u001b[0m_request\u001b[0m\u001b[0;34m(\u001b[0m\u001b[0mcommand_info\u001b[0m\u001b[0;34m[\u001b[0m\u001b[0;36m0\u001b[0m\u001b[0;34m]\u001b[0m\u001b[0;34m,\u001b[0m \u001b[0murl\u001b[0m\u001b[0;34m,\u001b[0m \u001b[0mbody\u001b[0m\u001b[0;34m=\u001b[0m\u001b[0mdata\u001b[0m\u001b[0;34m)\u001b[0m\u001b[0;34m\u001b[0m\u001b[0m\n\u001b[0m\u001b[1;32m    396\u001b[0m \u001b[0;34m\u001b[0m\u001b[0m\n\u001b[1;32m    397\u001b[0m     \u001b[0;32mdef\u001b[0m \u001b[0m_request\u001b[0m\u001b[0;34m(\u001b[0m\u001b[0mself\u001b[0m\u001b[0;34m,\u001b[0m \u001b[0mmethod\u001b[0m\u001b[0;34m,\u001b[0m \u001b[0murl\u001b[0m\u001b[0;34m,\u001b[0m \u001b[0mbody\u001b[0m\u001b[0;34m=\u001b[0m\u001b[0;32mNone\u001b[0m\u001b[0;34m)\u001b[0m\u001b[0;34m:\u001b[0m\u001b[0;34m\u001b[0m\u001b[0m\n",
      "\u001b[0;32m/Library/Frameworks/Python.framework/Versions/3.4/lib/python3.4/site-packages/selenium/webdriver/remote/remote_connection.py\u001b[0m in \u001b[0;36m_request\u001b[0;34m(self, method, url, body)\u001b[0m\n\u001b[1;32m    424\u001b[0m             \u001b[0;32mtry\u001b[0m\u001b[0;34m:\u001b[0m\u001b[0;34m\u001b[0m\u001b[0m\n\u001b[1;32m    425\u001b[0m                 \u001b[0mself\u001b[0m\u001b[0;34m.\u001b[0m\u001b[0m_conn\u001b[0m\u001b[0;34m.\u001b[0m\u001b[0mrequest\u001b[0m\u001b[0;34m(\u001b[0m\u001b[0mmethod\u001b[0m\u001b[0;34m,\u001b[0m \u001b[0mparsed_url\u001b[0m\u001b[0;34m.\u001b[0m\u001b[0mpath\u001b[0m\u001b[0;34m,\u001b[0m \u001b[0mbody\u001b[0m\u001b[0;34m,\u001b[0m \u001b[0mheaders\u001b[0m\u001b[0;34m)\u001b[0m\u001b[0;34m\u001b[0m\u001b[0m\n\u001b[0;32m--> 426\u001b[0;31m                 \u001b[0mresp\u001b[0m \u001b[0;34m=\u001b[0m \u001b[0mself\u001b[0m\u001b[0;34m.\u001b[0m\u001b[0m_conn\u001b[0m\u001b[0;34m.\u001b[0m\u001b[0mgetresponse\u001b[0m\u001b[0;34m(\u001b[0m\u001b[0;34m)\u001b[0m\u001b[0;34m\u001b[0m\u001b[0m\n\u001b[0m\u001b[1;32m    427\u001b[0m             \u001b[0;32mexcept\u001b[0m \u001b[0;34m(\u001b[0m\u001b[0mhttplib\u001b[0m\u001b[0;34m.\u001b[0m\u001b[0mHTTPException\u001b[0m\u001b[0;34m,\u001b[0m \u001b[0msocket\u001b[0m\u001b[0;34m.\u001b[0m\u001b[0merror\u001b[0m\u001b[0;34m)\u001b[0m\u001b[0;34m:\u001b[0m\u001b[0;34m\u001b[0m\u001b[0m\n\u001b[1;32m    428\u001b[0m                 \u001b[0mself\u001b[0m\u001b[0;34m.\u001b[0m\u001b[0m_conn\u001b[0m\u001b[0;34m.\u001b[0m\u001b[0mclose\u001b[0m\u001b[0;34m(\u001b[0m\u001b[0;34m)\u001b[0m\u001b[0;34m\u001b[0m\u001b[0m\n",
      "\u001b[0;32m/Library/Frameworks/Python.framework/Versions/3.4/lib/python3.4/http/client.py\u001b[0m in \u001b[0;36mgetresponse\u001b[0;34m(self)\u001b[0m\n\u001b[1;32m   1169\u001b[0m \u001b[0;34m\u001b[0m\u001b[0m\n\u001b[1;32m   1170\u001b[0m         \u001b[0;32mtry\u001b[0m\u001b[0;34m:\u001b[0m\u001b[0;34m\u001b[0m\u001b[0m\n\u001b[0;32m-> 1171\u001b[0;31m             \u001b[0mresponse\u001b[0m\u001b[0;34m.\u001b[0m\u001b[0mbegin\u001b[0m\u001b[0;34m(\u001b[0m\u001b[0;34m)\u001b[0m\u001b[0;34m\u001b[0m\u001b[0m\n\u001b[0m\u001b[1;32m   1172\u001b[0m             \u001b[0;32massert\u001b[0m \u001b[0mresponse\u001b[0m\u001b[0;34m.\u001b[0m\u001b[0mwill_close\u001b[0m \u001b[0;34m!=\u001b[0m \u001b[0m_UNKNOWN\u001b[0m\u001b[0;34m\u001b[0m\u001b[0m\n\u001b[1;32m   1173\u001b[0m             \u001b[0mself\u001b[0m\u001b[0;34m.\u001b[0m\u001b[0m__state\u001b[0m \u001b[0;34m=\u001b[0m \u001b[0m_CS_IDLE\u001b[0m\u001b[0;34m\u001b[0m\u001b[0m\n",
      "\u001b[0;32m/Library/Frameworks/Python.framework/Versions/3.4/lib/python3.4/http/client.py\u001b[0m in \u001b[0;36mbegin\u001b[0;34m(self)\u001b[0m\n\u001b[1;32m    349\u001b[0m         \u001b[0;31m# read until we get a non-100 response\u001b[0m\u001b[0;34m\u001b[0m\u001b[0;34m\u001b[0m\u001b[0m\n\u001b[1;32m    350\u001b[0m         \u001b[0;32mwhile\u001b[0m \u001b[0;32mTrue\u001b[0m\u001b[0;34m:\u001b[0m\u001b[0;34m\u001b[0m\u001b[0m\n\u001b[0;32m--> 351\u001b[0;31m             \u001b[0mversion\u001b[0m\u001b[0;34m,\u001b[0m \u001b[0mstatus\u001b[0m\u001b[0;34m,\u001b[0m \u001b[0mreason\u001b[0m \u001b[0;34m=\u001b[0m \u001b[0mself\u001b[0m\u001b[0;34m.\u001b[0m\u001b[0m_read_status\u001b[0m\u001b[0;34m(\u001b[0m\u001b[0;34m)\u001b[0m\u001b[0;34m\u001b[0m\u001b[0m\n\u001b[0m\u001b[1;32m    352\u001b[0m             \u001b[0;32mif\u001b[0m \u001b[0mstatus\u001b[0m \u001b[0;34m!=\u001b[0m \u001b[0mCONTINUE\u001b[0m\u001b[0;34m:\u001b[0m\u001b[0;34m\u001b[0m\u001b[0m\n\u001b[1;32m    353\u001b[0m                 \u001b[0;32mbreak\u001b[0m\u001b[0;34m\u001b[0m\u001b[0m\n",
      "\u001b[0;32m/Library/Frameworks/Python.framework/Versions/3.4/lib/python3.4/http/client.py\u001b[0m in \u001b[0;36m_read_status\u001b[0;34m(self)\u001b[0m\n\u001b[1;32m    311\u001b[0m \u001b[0;34m\u001b[0m\u001b[0m\n\u001b[1;32m    312\u001b[0m     \u001b[0;32mdef\u001b[0m \u001b[0m_read_status\u001b[0m\u001b[0;34m(\u001b[0m\u001b[0mself\u001b[0m\u001b[0;34m)\u001b[0m\u001b[0;34m:\u001b[0m\u001b[0;34m\u001b[0m\u001b[0m\n\u001b[0;32m--> 313\u001b[0;31m         \u001b[0mline\u001b[0m \u001b[0;34m=\u001b[0m \u001b[0mstr\u001b[0m\u001b[0;34m(\u001b[0m\u001b[0mself\u001b[0m\u001b[0;34m.\u001b[0m\u001b[0mfp\u001b[0m\u001b[0;34m.\u001b[0m\u001b[0mreadline\u001b[0m\u001b[0;34m(\u001b[0m\u001b[0m_MAXLINE\u001b[0m \u001b[0;34m+\u001b[0m \u001b[0;36m1\u001b[0m\u001b[0;34m)\u001b[0m\u001b[0;34m,\u001b[0m \u001b[0;34m\"iso-8859-1\"\u001b[0m\u001b[0;34m)\u001b[0m\u001b[0;34m\u001b[0m\u001b[0m\n\u001b[0m\u001b[1;32m    314\u001b[0m         \u001b[0;32mif\u001b[0m \u001b[0mlen\u001b[0m\u001b[0;34m(\u001b[0m\u001b[0mline\u001b[0m\u001b[0;34m)\u001b[0m \u001b[0;34m>\u001b[0m \u001b[0m_MAXLINE\u001b[0m\u001b[0;34m:\u001b[0m\u001b[0;34m\u001b[0m\u001b[0m\n\u001b[1;32m    315\u001b[0m             \u001b[0;32mraise\u001b[0m \u001b[0mLineTooLong\u001b[0m\u001b[0;34m(\u001b[0m\u001b[0;34m\"status line\"\u001b[0m\u001b[0;34m)\u001b[0m\u001b[0;34m\u001b[0m\u001b[0m\n",
      "\u001b[0;32m/Library/Frameworks/Python.framework/Versions/3.4/lib/python3.4/socket.py\u001b[0m in \u001b[0;36mreadinto\u001b[0;34m(self, b)\u001b[0m\n\u001b[1;32m    372\u001b[0m         \u001b[0;32mwhile\u001b[0m \u001b[0;32mTrue\u001b[0m\u001b[0;34m:\u001b[0m\u001b[0;34m\u001b[0m\u001b[0m\n\u001b[1;32m    373\u001b[0m             \u001b[0;32mtry\u001b[0m\u001b[0;34m:\u001b[0m\u001b[0;34m\u001b[0m\u001b[0m\n\u001b[0;32m--> 374\u001b[0;31m                 \u001b[0;32mreturn\u001b[0m \u001b[0mself\u001b[0m\u001b[0;34m.\u001b[0m\u001b[0m_sock\u001b[0m\u001b[0;34m.\u001b[0m\u001b[0mrecv_into\u001b[0m\u001b[0;34m(\u001b[0m\u001b[0mb\u001b[0m\u001b[0;34m)\u001b[0m\u001b[0;34m\u001b[0m\u001b[0m\n\u001b[0m\u001b[1;32m    375\u001b[0m             \u001b[0;32mexcept\u001b[0m \u001b[0mtimeout\u001b[0m\u001b[0;34m:\u001b[0m\u001b[0;34m\u001b[0m\u001b[0m\n\u001b[1;32m    376\u001b[0m                 \u001b[0mself\u001b[0m\u001b[0;34m.\u001b[0m\u001b[0m_timeout_occurred\u001b[0m \u001b[0;34m=\u001b[0m \u001b[0;32mTrue\u001b[0m\u001b[0;34m\u001b[0m\u001b[0m\n",
      "\u001b[0;31mKeyboardInterrupt\u001b[0m: "
     ]
    }
   ],
   "source": [
    "## following list crawling\n",
    "for n in range(1,100):\n",
    "    crawlFollowing(100)"
   ]
  },
  {
   "cell_type": "code",
   "execution_count": null,
   "metadata": {
    "collapsed": false,
    "scrolled": false
   },
   "outputs": [],
   "source": [
    "## writer info crawling\n",
    "for n in range(1,2):\n",
    "    crawlWriterInfo(100)"
   ]
  },
  {
   "cell_type": "code",
   "execution_count": null,
   "metadata": {
    "collapsed": false
   },
   "outputs": [],
   "source": [
    "## following list crawling\n",
    "for n in range(1,100):\n",
    "    crawlFollowing(100)"
   ]
  },
  {
   "cell_type": "code",
   "execution_count": 19,
   "metadata": {
    "collapsed": false
   },
   "outputs": [
    {
     "name": "stdout",
     "output_type": "stream",
     "text": [
      "\n",
      "crawling users  12\n",
      "............"
     ]
    }
   ],
   "source": [
    "    crawlFollowing(100)"
   ]
  },
  {
   "cell_type": "code",
   "execution_count": null,
   "metadata": {
    "collapsed": true
   },
   "outputs": [],
   "source": []
  }
 ],
 "metadata": {
  "kernelspec": {
   "display_name": "Python 3",
   "language": "python",
   "name": "python3"
  },
  "language_info": {
   "codemirror_mode": {
    "name": "ipython",
    "version": 3
   },
   "file_extension": ".py",
   "mimetype": "text/x-python",
   "name": "python",
   "nbconvert_exporter": "python",
   "pygments_lexer": "ipython3",
   "version": "3.4.3"
  }
 },
 "nbformat": 4,
 "nbformat_minor": 0
}
